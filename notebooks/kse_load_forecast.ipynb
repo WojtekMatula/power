{
 "cells": [
  {
   "cell_type": "code",
   "execution_count": 68,
   "id": "14adcbc5",
   "metadata": {},
   "outputs": [],
   "source": [
    "from pathlib import Path\n",
    "import os\n",
    "from dotenv import load_dotenv\n",
    "import pandas as pd\n",
    "import numpy as np\n",
    "from data_downloader import DataDownloader\n",
    "from jwm_data_downloader import JwmDataDownloader\n",
    "\n",
    "load_dotenv()\n",
    "# Configuration\n",
    "FUNCTION_APP_URL = os.environ.get(\"MC_FUNCTION_APP_URL\")\n",
    "FUNCTION_CODE = os.environ.get(\"MC_FUNCTION_CODE\")\n",
    "downloader = DataDownloader(FUNCTION_APP_URL, FUNCTION_CODE)\n",
    "\n",
    "\n",
    "USERNAME = os.environ.get(\"JWM_USERNAME\")\n",
    "PASSWORD = os.environ.get(\"JWM_PASSWORD\")\n",
    "downloader_jwm = JwmDataDownloader(username=USERNAME, password=PASSWORD)"
   ]
  },
  {
   "cell_type": "markdown",
   "id": "83426dd7",
   "metadata": {
    "lines_to_next_cell": 2
   },
   "source": [
    "### Functions to convert to UTC"
   ]
  },
  {
   "cell_type": "code",
   "execution_count": 69,
   "id": "34590b03",
   "metadata": {},
   "outputs": [],
   "source": [
    "### for 15min data\n",
    "def add_utc_25_15min(\n",
    "    df: pd.DataFrame,\n",
    "    date_col: str = \"date\",\n",
    "    hour_index_col: str = \"hour_index\",\n",
    "    tz: str = \"Europe/Warsaw\",\n",
    "    out_col: str = \"Date_utc\",\n",
    "    local_col: str = \"Date_cet\",\n",
    ") -> pd.DataFrame:\n",
    "    \"\"\"\n",
    "    Mapuje (data, indeks godziny 0..91/95/99) -> lokalny timestamp w tz (start kwadransa),\n",
    "    a następnie konwertuje do UTC. Unika duplikatów w marcu i poprawnie rozróżnia\n",
    "    podwójną 02:00 w październiku.\n",
    "    \"\"\"\n",
    "    out = df.copy()\n",
    "    # Klucz do łączenia — północ danego dnia (bez strefy)\n",
    "    out[\"_date_key\"] = pd.to_datetime(out[date_col]).dt.normalize()\n",
    "    out[hour_index_col] = out[hour_index_col].astype(int)\n",
    "\n",
    "    maps = []\n",
    "    for d in out[\"_date_key\"].dropna().unique():\n",
    "        # północ lokalna na początku i końcu doby\n",
    "        start = pd.Timestamp(d).tz_localize(tz)\n",
    "        end = (pd.Timestamp(d) + pd.Timedelta(days=1)).tz_localize(tz)\n",
    "        # ciąg kwadransów tej doby w lokalnej strefie (długość 92/96/100)\n",
    "        rng = pd.date_range(start, end, freq=\"15min\", inclusive=\"left\")\n",
    "        maps.append(\n",
    "            pd.DataFrame(\n",
    "                {\n",
    "                    \"_date_key\": d,\n",
    "                    hour_index_col: np.arange(0, len(rng), dtype=int),\n",
    "                    local_col: rng,\n",
    "                }\n",
    "            )\n",
    "        )\n",
    "    mapping = (\n",
    "        pd.concat(maps, ignore_index=True)\n",
    "        if maps\n",
    "        else pd.DataFrame(columns=[\"_date_key\", hour_index_col, local_col])\n",
    "    )\n",
    "    # Dołączamy lokalny czas; nieistniejące kombinacje dostaną NaT\n",
    "    out = out.merge(mapping, on=[\"_date_key\", hour_index_col], how=\"left\")\n",
    "    # Konwersja do UTC\n",
    "    out[out_col] = out[local_col].dt.tz_convert(\"UTC\")\n",
    "    # Porządki\n",
    "    out.drop(columns=[\"_date_key\"], inplace=True)\n",
    "    return out"
   ]
  },
  {
   "cell_type": "markdown",
   "id": "249b511f",
   "metadata": {},
   "source": [
    "# KSE Load - prognoza i faktyczne zapotrzebowanie"
   ]
  },
  {
   "cell_type": "markdown",
   "id": "7ec7b34b",
   "metadata": {},
   "source": [
    "## MC Base"
   ]
  },
  {
   "cell_type": "code",
   "execution_count": 70,
   "id": "89d48907",
   "metadata": {},
   "outputs": [],
   "source": [
    "# get demand pse\n",
    "mc_kseload_f = downloader.get_csv_as_dataframe(\n",
    "    \"power_live\", \"pse_prognozowane_zapotrzebowanie.csv\"\n",
    ")\n",
    "# date column\n",
    "mc_kseload_f[\"date\"] = pd.to_datetime(mc_kseload_f[\"date\"])\n",
    "# hour index\n",
    "mc_kseload_f[\"hour_idx\"] = mc_kseload_f.groupby([\"date\"]).cumcount()\n",
    "# minute index\n",
    "mc_kseload_f[\"minute\"] = (\n",
    "    mc_kseload_f[\"time\"].str.split(\" \").str[0].str.split(\":\").str[1].astype(float)\n",
    ")\n",
    "# add UTC timestamps\n",
    "mc_kseload_f = add_utc_25_15min(\n",
    "    mc_kseload_f,\n",
    "    date_col=\"date\",\n",
    "    hour_index_col=\"hour_idx\",\n",
    "    tz=\"Europe/Warsaw\",\n",
    "    out_col=\"Date_utc\",\n",
    "    local_col=\"Date_cet\",\n",
    ")\n",
    "# chouse and rename columns\n",
    "mc_kseload_f = mc_kseload_f[\n",
    "    [\"data_publikacji\", \"Date_utc\", \"Date_cet\", \"demand_forcast\"]\n",
    "]\n",
    "mc_kseload_f = mc_kseload_f.rename(\n",
    "    columns={\n",
    "        \"data_publikacji\": \"Date_of_publication_cet\",\n",
    "        \"demand_forcast\": \"load_forecast\",\n",
    "    }\n",
    ")\n",
    "# set timezone\n",
    "mc_kseload_f[\"Date_of_publication_cet\"] = pd.to_datetime(\n",
    "    mc_kseload_f[\"Date_of_publication_cet\"]\n",
    ").dt.tz_localize(\"Europe/Warsaw\")\n",
    "mc_kseload_f[\"Date_of_publication_utc\"] = mc_kseload_f[\n",
    "    \"Date_of_publication_cet\"\n",
    "].dt.tz_convert(\"UTC\")\n",
    "# choose needed date range\n",
    "mc_kseload_f = mc_kseload_f[\n",
    "    mc_kseload_f[\"Date_cet\"] < \"2025-08-30 00:00:00+02:00\"\n",
    "].copy()"
   ]
  },
  {
   "cell_type": "markdown",
   "id": "ec36f8a1",
   "metadata": {},
   "source": [
    "## JWM Base"
   ]
  },
  {
   "cell_type": "markdown",
   "id": "91fc4e9e",
   "metadata": {},
   "source": [
    "### JWM actual eod"
   ]
  },
  {
   "cell_type": "code",
   "execution_count": 71,
   "id": "bbc2e619",
   "metadata": {
    "lines_to_next_cell": 2
   },
   "outputs": [],
   "source": [
    "# # download data\n",
    "# jwm_kseload_actuals = downloader_jwm.download_as_dataframe(\"utc/kse_load_actual_eod.csv\")\n",
    "# # drop irrelevant columns\n",
    "# jwm_kseload_actuals = jwm_kseload_actuals.drop(columns=['plan_day','plan_indicator','delivery_end'])\n",
    "# # rename columns\n",
    "# jwm_kseload_actuals = jwm_kseload_actuals.rename(columns={\n",
    "#     'delivery_start': 'Date_utc',\n",
    "#     'publication_timestamp': 'Date_of_publication_utc'})\n",
    "# # to datetime\n",
    "# jwm_kseload_actuals['Date_utc'] = pd.to_datetime(jwm_kseload_actuals['Date_utc'])\n",
    "# jwm_kseload_actuals['Date_of_publication_utc'] = pd.to_datetime(jwm_kseload_actuals['Date_of_publication_utc'])\n",
    "# # dates in pl timezone\n",
    "# jwm_kseload_actuals['Date_cet'] = jwm_kseload_actuals['Date_utc'].dt.tz_convert('Europe/Warsaw')\n",
    "# jwm_kseload_actuals['Date_of_publication_pl'] = jwm_kseload_actuals['Date_of_publication_utc'].dt.tz_convert('Europe/Warsaw')\n",
    "# # rename columns\n",
    "# jwm_kseload_actuals.rename(columns={'load_forecast': 'load_forecast_late'}, inplace=True)"
   ]
  },
  {
   "cell_type": "markdown",
   "id": "4798c835",
   "metadata": {},
   "source": [
    "### JWM forecast"
   ]
  },
  {
   "cell_type": "code",
   "execution_count": 72,
   "id": "177a3b40",
   "metadata": {},
   "outputs": [],
   "source": [
    "# download data\n",
    "jwm_kseload_forecast = downloader_jwm.download_as_dataframe(\"utc/kse_load_forecast.csv\")\n",
    "# drop irrelevant columns\n",
    "jwm_kseload_forecast = jwm_kseload_forecast.drop(\n",
    "    columns=[\"delivery_end\", \"timeseries_plan_indicator\"]\n",
    ")\n",
    "# rename columns\n",
    "jwm_kseload_forecast = jwm_kseload_forecast.rename(\n",
    "    columns={\n",
    "        \"delivery_start\": \"Date_utc\",\n",
    "        \"publication_timestamp\": \"Date_of_publication_utc\",\n",
    "        \"timeseries_plan_created_date\": \"Date_of_update_utc\",\n",
    "    }\n",
    ")\n",
    "# to datetime\n",
    "jwm_kseload_forecast[\"Date_utc\"] = pd.to_datetime(jwm_kseload_forecast[\"Date_utc\"])\n",
    "jwm_kseload_forecast[\"Date_of_publication_utc\"] = pd.to_datetime(\n",
    "    jwm_kseload_forecast[\"Date_of_publication_utc\"]\n",
    ")\n",
    "jwm_kseload_forecast[\"Date_of_update_utc\"] = pd.to_datetime(\n",
    "    jwm_kseload_forecast[\"Date_of_update_utc\"]\n",
    ")\n",
    "# dates in pl timezone\n",
    "jwm_kseload_forecast[\"Date_cet\"] = jwm_kseload_forecast[\"Date_utc\"].dt.tz_convert(\n",
    "    \"Europe/Warsaw\"\n",
    ")\n",
    "jwm_kseload_forecast[\"Date_of_publication_cet\"] = jwm_kseload_forecast[\n",
    "    \"Date_of_publication_utc\"\n",
    "].dt.tz_convert(\"Europe/Warsaw\")\n",
    "jwm_kseload_forecast[\"Date_of_update_cet\"] = jwm_kseload_forecast[\n",
    "    \"Date_of_update_utc\"\n",
    "].dt.tz_convert(\"Europe/Warsaw\")"
   ]
  },
  {
   "cell_type": "markdown",
   "id": "e091eefc",
   "metadata": {},
   "source": [
    "### JWM join"
   ]
  },
  {
   "cell_type": "code",
   "execution_count": 73,
   "id": "e75ace53",
   "metadata": {},
   "outputs": [],
   "source": [
    "# # merg\n",
    "# kse_load = jwm_kseload_forecast.merge(jwm_kseload_actuals[['Date_utc','Date_cet','load_actual','load_forecast_late']],\n",
    "#                                       on=['Date_utc','Date_cet'], how='outer')"
   ]
  },
  {
   "cell_type": "markdown",
   "id": "0b1caf2e",
   "metadata": {},
   "source": [
    "## Join MC JWM\n"
   ]
  },
  {
   "cell_type": "code",
   "execution_count": 74,
   "id": "8e206a1c",
   "metadata": {},
   "outputs": [],
   "source": [
    "# merge\n",
    "kse_load = pd.concat([mc_kseload_f, jwm_kseload_forecast])\n",
    "# sort columns\n",
    "kse_load = kse_load.reindex(sorted(jwm_kseload_forecast.columns), axis=1)\n",
    "# drop data with same publication date and date_utc\n",
    "kse_load = kse_load.drop_duplicates(\n",
    "    subset=[\"Date_of_publication_utc\", \"Date_utc\"], keep=\"last\"\n",
    ")"
   ]
  },
  {
   "cell_type": "markdown",
   "id": "19371252",
   "metadata": {},
   "source": [
    "# save to parquet"
   ]
  },
  {
   "cell_type": "code",
   "execution_count": 75,
   "id": "7b1a6507",
   "metadata": {},
   "outputs": [],
   "source": [
    "# save to parquet\n",
    "\n",
    "out_path = Path(__file__).parent / \"../out\"\n",
    "kse_load.to_parquet(out_path / \"kse_load_forecast.parquet\", index=False)"
   ]
  }
 ],
 "metadata": {
  "kernelspec": {
   "display_name": "base",
   "language": "python",
   "name": "python3"
  },
  "language_info": {
   "codemirror_mode": {
    "name": "ipython",
    "version": 3
   },
   "file_extension": ".py",
   "mimetype": "text/x-python",
   "name": "python",
   "nbconvert_exporter": "python",
   "pygments_lexer": "ipython3",
   "version": "3.13.5"
  }
 },
 "nbformat": 4,
 "nbformat_minor": 5
}
